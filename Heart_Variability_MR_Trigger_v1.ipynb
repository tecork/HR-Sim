{
 "cells": [
  {
   "cell_type": "code",
   "execution_count": null,
   "metadata": {},
   "outputs": [],
   "source": [
    "### Tyler E. Cork\n",
    "### Stanford University\n",
    "### March 3rd, 2020"
   ]
  },
  {
   "cell_type": "code",
   "execution_count": null,
   "metadata": {},
   "outputs": [],
   "source": [
    "## User Input to Caluclate Heart Rate Pattern\n",
    "indir     = '/Users/tecork/Desktop/'     # Initial Directory\n",
    "N_beats   = 300;                         # Number of Beats\n",
    "N_skipped = 30;                          # Number of Skipped Heart Beats\n",
    "\n",
    "RR_mean   = 1014;                        # Mean R-R interval\n",
    "RR_std    = 65.3;                        # Standard Deviation of R-R Interval\n",
    "# R-R mean of 1014 and R-R Standard Deviation of 65.3 come from this paper:\n",
    "# https://onlinelibrary.wiley.com/doi/abs/10.1111/anae.12317 "
   ]
  },
  {
   "cell_type": "code",
   "execution_count": null,
   "metadata": {},
   "outputs": [],
   "source": [
    "# Initialize required libraries\n",
    "import numpy as np\n",
    "import matplotlib.pyplot as plt\n",
    "import pandas as pd\n",
    "import os\n",
    "from datetime import date\n",
    "\n",
    "# Set up Directories for storing information\n",
    "today = date.today()\n",
    "d = today.strftime(\"%Y-%b-%d\")\n",
    "\n",
    "folder_Path  = '{}_Heart_Rate_Variability_{}_Beats_{}_skipped_beats'.format(d, int(N_beats), int(N_skipped))\n",
    "main_folder = os.path.join(indir, folder_Path)\n",
    "\n",
    "Excell_Path  = 'Key_{}_Beats_{}_skipped_beats.xlsx'.format(int(N_beats), int(N_skipped))\n",
    "Fig_1_Path   = 'HRV_Plot_{}_Beats_{}_skipped_beats.pdf'.format(int(N_beats), int(N_skipped))\n",
    "Fig_2_Path   = 'Scanner_Trigger_{}_Beats_{}_skipped_beats.pdf'.format(int(N_beats), int(N_skipped))\n",
    "\n",
    "Arduino_Folder = 'HRV_Arduino_Script_{}_Beats_{}_skipped_beats'.format(int(N_beats), int(N_skipped))\n",
    "Arduino_Path = 'HRV_Arduino_Script_{}_Beats_{}_skipped_beats.ino'.format(int(N_beats), int(N_skipped))\n",
    "\n",
    "if not os.path.isdir(main_folder):\n",
    "    os.mkdir(main_folder)\n",
    "if not os.path.isdir(os.path.join(indir, folder_Path, Arduino_Folder)):\n",
    "    os.mkdir(os.path.join(indir, folder_Path, Arduino_Folder))"
   ]
  },
  {
   "cell_type": "code",
   "execution_count": null,
   "metadata": {},
   "outputs": [],
   "source": [
    "# Generate Guassian Distriburtion of Heart Beats \n",
    "x = np.round(RR_mean + RR_std * np.random.normal(size=N_beats))\n",
    "#print(np.sum(x))     # Original Duration\n",
    "for i in range(0, N_skipped):\n",
    "    ind = np.random.randint(1, x.shape[0]) # Index [ind] to skip (can't skip first beat)\n",
    "    x[ind-1] = x[ind-1] + x[ind]           # Add skipped beat duration to previous\n",
    "    x = np.delete(x, ind)                  # Remove skipped beat\n",
    "#print(np.sum(x))    # Duration after Skipped beat should remain the same"
   ]
  },
  {
   "cell_type": "code",
   "execution_count": null,
   "metadata": {},
   "outputs": [],
   "source": [
    "plt.plot(x, 'k', linewidth=2.0, label='R-R interval time')\n",
    "plt.plot(np.ones(x.shape[0]) * RR_mean, '--r', linewidth=2.0,  label=r'$\\mu$ = 1014 ms')\n",
    "plt.plot(np.ones(x.shape[0]) * RR_mean + RR_std, '--b', linewidth=2.0,)\n",
    "plt.plot(np.ones(x.shape[0]) * RR_mean - RR_std, '--b', linewidth=2.0, label=r'$\\sigma$ = 65.3 ms')\n",
    "plt.xlabel('Beat Number, (A.U.)')\n",
    "plt.ylabel('R-R peak interval, (ms)')\n",
    "plt.title('Guassian Distriburtion of Heart Beat Times')\n",
    "leg = plt.legend()\n",
    "plt.savefig(os.path.join(indir, folder_Path, Fig_1_Path))\n",
    "plt.show()"
   ]
  },
  {
   "cell_type": "code",
   "execution_count": null,
   "metadata": {},
   "outputs": [],
   "source": [
    "# Write Arduino File\n",
    "\n",
    "# Initialize Arduino File\n",
    "f= open(os.path.join(indir, folder_Path, Arduino_Folder, Arduino_Path),\"w+\")\n",
    "\n",
    "# Create text line list for Arduino\n",
    "txt_line = []\n",
    "\n",
    "# Initial Lines of Code to Start Arduino File\n",
    "txt_line.append('')\n",
    "txt_line.append('const int led  =  13;        //use digital I/O pin 13\\n')\n",
    "txt_line.append('void setup()\\n')\n",
    "txt_line.append('{\\n')\n",
    "txt_line.append('pinMode(led,OUTPUT);         //set pin 13 to be an output\\n')\n",
    "txt_line.append('delay(100);                  //delay 100 milliseconds\\n')\n",
    "txt_line.append('}\\n')\n",
    "txt_line.append('void loop()\\n')\n",
    "txt_line.append('{\\n')\n",
    "\n",
    "# Initialize Arduinio Trigger Simulation Array\n",
    "y = np.zeros(int(np.sum(x)))\n",
    "start = int(0)                      # Initialize simulation start time\n",
    "for ii in range(0, x.shape[0]):\n",
    "    end = int(start + x[ii] - 101)  # Set end time 101 ms before trigger \n",
    "    y[start:end] = 0                # Assign 0 V to time befroe trigger\n",
    "    y[end+1:end+101] = 5            # Assign 5 V trigger for 100 ms after end time \n",
    "    start = int(end + 101)          # Update start time\n",
    "    \n",
    "    # Append trigger on/off commands\n",
    "    string_1 = \"delay({});                //delay {} milliseconds\\n\".format(str(x[ii] - 100), (str(x[ii] - 100)))\n",
    "    txt_line.append(string_1)\n",
    "    string_2 = \"digitalWrite(led,HIGH);      //set pin 13 HIGH\\n\"\n",
    "    txt_line.append(string_2)\n",
    "    string_3 = \"delay(100);                  //delay 100 milliseconds\\n\"\n",
    "    txt_line.append(string_3)\n",
    "    string_4 = \"digitalWrite(led,LOW);       //set pin 13 LOW\\n\"  \n",
    "    txt_line.append(string_4)\n",
    "    \n",
    "# Close Arduino loop\n",
    "txt_line.append('}\\n')\n",
    "txt_line.append('')\n",
    "\n",
    "# Writes Arduino Script\n",
    "f.writelines(txt_line)\n",
    "f.close()"
   ]
  },
  {
   "cell_type": "code",
   "execution_count": null,
   "metadata": {},
   "outputs": [],
   "source": [
    "plt.plot(y, 'b', linewidth=1.0, label='R-R interval time')\n",
    "plt.ylim([0, 6])\n",
    "plt.xlim([0,y.shape[0]])\n",
    "plt.xlabel('Time, (ms)')\n",
    "plt.ylabel('Volts, (V)')\n",
    "plt.title('Trigger to Scanner')\n",
    "plt.savefig(os.path.join(indir, folder_Path, Fig_2_Path))\n",
    "plt.show()"
   ]
  },
  {
   "cell_type": "code",
   "execution_count": null,
   "metadata": {},
   "outputs": [],
   "source": [
    "# Create Heart Rate Key\n",
    "key = []\n",
    "for ii in range(0, x.shape[0]):\n",
    "    if x[ii] > 1.5 * RR_mean:\n",
    "        note = 'Includes Skipped beat'\n",
    "    else:\n",
    "        note = ''\n",
    "    key.append([(ii+1), x[ii], note])\n",
    "    del note     \n",
    "key\n",
    "df = pd.DataFrame(data = key, columns=['Heart Beat Number','R-R interval time [ms]', 'Notes'])\n",
    "\n",
    "# Writes Key to Excell File\n",
    "df.to_excel(os.path.join(indir, folder_Path, Excell_Path))"
   ]
  }
 ],
 "metadata": {
  "kernelspec": {
   "display_name": "Python 3",
   "language": "python",
   "name": "python3"
  },
  "language_info": {
   "codemirror_mode": {
    "name": "ipython",
    "version": 3
   },
   "file_extension": ".py",
   "mimetype": "text/x-python",
   "name": "python",
   "nbconvert_exporter": "python",
   "pygments_lexer": "ipython3",
   "version": "3.7.4"
  }
 },
 "nbformat": 4,
 "nbformat_minor": 2
}
